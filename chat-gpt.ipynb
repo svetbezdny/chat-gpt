{
 "cells": [
  {
   "cell_type": "code",
   "execution_count": 1,
   "metadata": {},
   "outputs": [],
   "source": [
    "import requests\n",
    "import json\n",
    "from getpass import getpass"
   ]
  },
  {
   "cell_type": "code",
   "execution_count": 2,
   "metadata": {},
   "outputs": [],
   "source": [
    "API_KEY = getpass(\"Enter your token: \")"
   ]
  },
  {
   "cell_type": "code",
   "execution_count": 3,
   "metadata": {},
   "outputs": [],
   "source": [
    "def get_answer(query: str) -> str:\n",
    "\n",
    "    '''The function sends a request to chat-gpt and outputs a response'''\n",
    "\n",
    "    headers = {\n",
    "        \"Authorization\" : f\"Bearer {API_KEY}\",\n",
    "        \"Content-Type\" : \"application/json\"\n",
    "    }\n",
    "    data = {}\n",
    "    body = {\n",
    "        \"model\" : \"gpt-3.5-turbo\",\n",
    "        \"messages\" : [{\"role\" : \"user\", \"content\" : query}],\n",
    "        \"temperature\" : 0.7\n",
    "    }\n",
    "    json_data = json.dumps(body, ensure_ascii=False).encode('utf-8')\n",
    "    web = requests.post('https://api.openai.com/v1/chat/completions', \n",
    "                        headers = headers, \n",
    "                        params = data, \n",
    "                        data = json_data)\n",
    "    result = web.json()[\"choices\"][0]['message']['content']\n",
    "    print(result)"
   ]
  },
  {
   "cell_type": "code",
   "execution_count": 4,
   "metadata": {},
   "outputs": [
    {
     "name": "stdout",
     "output_type": "stream",
     "text": [
      "English: \n",
      "\n",
      "Hello, my name is OpenAI's language model and I am an AI language model designed to assist with various tasks. I was created by a team of talented engineers and researchers at OpenAI. I am constantly learning and improving my abilities to better serve my users. In my free time, I enjoy analyzing and processing natural language data, as well as exploring new ways to expand my knowledge base.\n",
      "\n",
      "Russian: \n",
      "\n",
      "Здравствуйте, меня зовут является модель языка OpenAI, являющаяся искусственным интеллектом, созданным для помощи в различных задачах. Меня создала команда талантливых инженеров и исследователей в OpenAI. Я постоянно учусь и улучшаю свои способности, чтобы лучше служить своим пользователям. В свободное время я люблю анализировать и обрабатывать данные естественного языка, а также исследовать новые способы расширения моей базы знаний.\n"
     ]
    }
   ],
   "source": [
    "# Here you can enter your question\n",
    "\n",
    "try:\n",
    "    get_answer('''\n",
    "Tell me about yourself in English and Russian\n",
    "''')\n",
    "except Exception as e:\n",
    "    print(\"Something went wrong :\", e)"
   ]
  }
 ],
 "metadata": {
  "kernelspec": {
   "display_name": "Python 3",
   "language": "python",
   "name": "python3"
  },
  "language_info": {
   "codemirror_mode": {
    "name": "ipython",
    "version": 3
   },
   "file_extension": ".py",
   "mimetype": "text/x-python",
   "name": "python",
   "nbconvert_exporter": "python",
   "pygments_lexer": "ipython3",
   "version": "3.11.0"
  },
  "orig_nbformat": 4
 },
 "nbformat": 4,
 "nbformat_minor": 2
}
